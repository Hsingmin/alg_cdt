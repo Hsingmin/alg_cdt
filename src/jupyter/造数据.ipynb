{
 "cells": [
  {
   "cell_type": "code",
   "execution_count": 19,
   "id": "6ef3d9ff-f542-4fe0-ac38-27437b95ccfc",
   "metadata": {
    "collapsed": true,
    "jupyter": {
     "outputs_hidden": true
    },
    "tags": []
   },
   "outputs": [
    {
     "name": "stdout",
     "output_type": "stream",
     "text": [
      "Downloading http://yann.lecun.com/exdb/mnist/train-images-idx3-ubyte.gz\n",
      "Downloading http://yann.lecun.com/exdb/mnist/train-images-idx3-ubyte.gz to ../../img/mnist\\MNIST\\raw\\train-images-idx3-ubyte.gz\n"
     ]
    },
    {
     "data": {
      "application/vnd.jupyter.widget-view+json": {
       "model_id": "faabaca5e69b4fbfadda8138b91adfc7",
       "version_major": 2,
       "version_minor": 0
      },
      "text/plain": [
       "  0%|          | 0/9912422 [00:00<?, ?it/s]"
      ]
     },
     "metadata": {},
     "output_type": "display_data"
    },
    {
     "name": "stdout",
     "output_type": "stream",
     "text": [
      "Extracting ../../img/mnist\\MNIST\\raw\\train-images-idx3-ubyte.gz to ../../img/mnist\\MNIST\\raw\n",
      "\n",
      "Downloading http://yann.lecun.com/exdb/mnist/train-labels-idx1-ubyte.gz\n",
      "Downloading http://yann.lecun.com/exdb/mnist/train-labels-idx1-ubyte.gz to ../../img/mnist\\MNIST\\raw\\train-labels-idx1-ubyte.gz\n"
     ]
    },
    {
     "data": {
      "application/vnd.jupyter.widget-view+json": {
       "model_id": "a1caec68364746f1bddb64f0f12c2d3e",
       "version_major": 2,
       "version_minor": 0
      },
      "text/plain": [
       "  0%|          | 0/28881 [00:00<?, ?it/s]"
      ]
     },
     "metadata": {},
     "output_type": "display_data"
    },
    {
     "name": "stdout",
     "output_type": "stream",
     "text": [
      "Extracting ../../img/mnist\\MNIST\\raw\\train-labels-idx1-ubyte.gz to ../../img/mnist\\MNIST\\raw\n",
      "\n",
      "Downloading http://yann.lecun.com/exdb/mnist/t10k-images-idx3-ubyte.gz\n",
      "Downloading http://yann.lecun.com/exdb/mnist/t10k-images-idx3-ubyte.gz to ../../img/mnist\\MNIST\\raw\\t10k-images-idx3-ubyte.gz\n"
     ]
    },
    {
     "data": {
      "application/vnd.jupyter.widget-view+json": {
       "model_id": "f91292446bc347cbb29b4c34fc634a99",
       "version_major": 2,
       "version_minor": 0
      },
      "text/plain": [
       "  0%|          | 0/1648877 [00:00<?, ?it/s]"
      ]
     },
     "metadata": {},
     "output_type": "display_data"
    },
    {
     "name": "stdout",
     "output_type": "stream",
     "text": [
      "Extracting ../../img/mnist\\MNIST\\raw\\t10k-images-idx3-ubyte.gz to ../../img/mnist\\MNIST\\raw\n",
      "\n",
      "Downloading http://yann.lecun.com/exdb/mnist/t10k-labels-idx1-ubyte.gz\n",
      "Downloading http://yann.lecun.com/exdb/mnist/t10k-labels-idx1-ubyte.gz to ../../img/mnist\\MNIST\\raw\\t10k-labels-idx1-ubyte.gz\n"
     ]
    },
    {
     "data": {
      "application/vnd.jupyter.widget-view+json": {
       "model_id": "20203ca9a74d4f4087b12308f65c4a02",
       "version_major": 2,
       "version_minor": 0
      },
      "text/plain": [
       "  0%|          | 0/4542 [00:00<?, ?it/s]"
      ]
     },
     "metadata": {},
     "output_type": "display_data"
    },
    {
     "name": "stdout",
     "output_type": "stream",
     "text": [
      "Extracting ../../img/mnist\\MNIST\\raw\\t10k-labels-idx1-ubyte.gz to ../../img/mnist\\MNIST\\raw\n",
      "\n"
     ]
    }
   ],
   "source": [
    "import torchvision\n",
    "\n",
    "train_set = torchvision.datasets.MNIST(root='../../img/mnist', train=True, download=True)\n",
    "test_set = torchvision.datasets.MNIST(root='../../img/mnist', train=False, download=True)"
   ]
  },
  {
   "cell_type": "code",
   "execution_count": 24,
   "id": "dcd98de0-1245-4f03-ad00-1edfa2de910d",
   "metadata": {},
   "outputs": [],
   "source": [
    "img, target = test_set[0]"
   ]
  },
  {
   "cell_type": "code",
   "execution_count": 25,
   "id": "3d1178d6-472b-4934-a88d-aebc18befa87",
   "metadata": {},
   "outputs": [
    {
     "data": {
      "image/png": "[encoded data removed]",
      "text/plain": [
       "<PIL.Image.Image image mode=L size=28x28 at 0x1DA1E1018B0>"
      ]
     },
     "execution_count": 25,
     "metadata": {},
     "output_type": "execute_result"
    }
   ],
   "source": [
    "img"
   ]
  },
  {
   "cell_type": "code",
   "execution_count": 36,
   "id": "f7eae5e7-95ec-4b37-adee-9e8e4d179d61",
   "metadata": {},
   "outputs": [
    {
     "data": {
      "text/plain": [
       "PIL.Image.Image"
      ]
     },
     "execution_count": 36,
     "metadata": {},
     "output_type": "execute_result"
    }
   ],
   "source": [
    "type(img)"
   ]
  },
  {
   "cell_type": "code",
   "execution_count": 38,
   "id": "43d35ebe-5ca8-4653-ba52-6d832817efe3",
   "metadata": {},
   "outputs": [
    {
     "data": {
      "text/plain": [
       "(28, 28)"
      ]
     },
     "execution_count": 38,
     "metadata": {},
     "output_type": "execute_result"
    }
   ],
   "source": [
    "img.size"
   ]
  },
  {
   "cell_type": "code",
   "execution_count": 49,
   "id": "dd4c006e-14ae-4b61-85eb-40f35c930c70",
   "metadata": {},
   "outputs": [
    {
     "data": {
      "image/png": "[encoded data removed]",
      "text/plain": [
       "<Figure size 504x504 with 25 Axes>"
      ]
     },
     "metadata": {},
     "output_type": "display_data"
    }
   ],
   "source": [
    "# 可视化手写数字\n",
    "import matplotlib.pyplot as plt\n",
    "\n",
    "fig, axes = plt.subplots(5, 5, figsize=(7, 7),subplot_kw={'xticks':[], 'yticks':[]},\n",
    "                        gridspec_kw=dict(hspace=0.1, wspace=0.1))\n",
    "for i, ax in enumerate(axes.flat):\n",
    "    ax.imshow(train_set[i][0], cmap='binary', interpolation='nearest')\n",
    "    ax.text(0.05, 0.05, str(train_set[i][1]), transform=ax.transAxes, color='green')"
   ]
  },
  {
   "cell_type": "code",
   "execution_count": 172,
   "id": "002bdc83-a193-4ec0-93c0-93220271284f",
   "metadata": {},
   "outputs": [
    {
     "data": {
      "image/png": "[encoded data removed]",
      "text/plain": [
       "<PIL.Image.Image image mode=RGB size=300x300 at 0x1DA2927F100>"
      ]
     },
     "execution_count": 172,
     "metadata": {},
     "output_type": "execute_result"
    }
   ],
   "source": [
    "import random\n",
    "from PIL import Image, ImageOps, ImageDraw\n",
    "\n",
    "width, height = 300, 300\n",
    "clock_img = Image.new('RGB', (width, height), (255, 255, 255))\n",
    "clock_draw = ImageDraw.Draw(clock_img)  # 创建Draw对象\n",
    "clock_draw.ellipse(((20, 20), (280, 280)), outline=(0, 0, 0), width=2)\n",
    "\n",
    "# 插入随机数字\n",
    "pos = [(180, 50), (220, 90), (240, 130), (230, 170), (200, 210), (140, 240), (90, 220), (60, 190), (30, 140), \n",
    "       (50, 100), (80, 60), (140, 40)]\n",
    "for i in range(12):\n",
    "    number_img = train_set[random.randint(0, 60000)][0]\n",
    "    number_img = ImageOps.invert(number_img)\n",
    "    clock_img.paste(number_img, pos[i])\n",
    "\n",
    "clock_img"
   ]
  },
  {
   "cell_type": "code",
   "execution_count": null,
   "id": "8c8d3d3b-6e83-435d-adbf-77bd253fcc71",
   "metadata": {},
   "outputs": [],
   "source": []
  },
  {
   "cell_type": "code",
   "execution_count": null,
   "id": "db966471-57f0-4393-8f40-c36fbf5adf5e",
   "metadata": {},
   "outputs": [],
   "source": []
  }
 ],
 "metadata": {
  "kernelspec": {
   "display_name": "Python 3 (ipykernel)",
   "language": "python",
   "name": "python3"
  },
  "language_info": {
   "codemirror_mode": {
    "name": "ipython",
    "version": 3
   },
   "file_extension": ".py",
   "mimetype": "text/x-python",
   "name": "python",
   "nbconvert_exporter": "python",
   "pygments_lexer": "ipython3",
   "version": "3.9.7"
  }
 },
 "nbformat": 4,
 "nbformat_minor": 5
}
